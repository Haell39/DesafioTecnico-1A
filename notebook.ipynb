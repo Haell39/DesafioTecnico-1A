{
 "cells": [
  {
   "cell_type": "code",
   "execution_count": 1,
   "metadata": {},
   "outputs": [],
   "source": [
    "# Importações na venv\n",
    "import pandas as pd\n",
    "import numpy as np\n",
    "from sklearn.model_selection import train_test_split\n",
    "from sklearn.preprocessing import StandardScaler, LabelEncoder\n",
    "from sklearn.ensemble import RandomForestClassifier\n",
    "from sklearn.metrics import classification_report, confusion_matrix\n",
    "import seaborn as sns\n",
    "import matplotlib.pyplot as plt"
   ]
  },
  {
   "cell_type": "code",
   "execution_count": 2,
   "metadata": {},
   "outputs": [
    {
     "name": "stdout",
     "output_type": "stream",
     "text": [
      "Informações do Dataset: \n",
      "\n",
      "<class 'pandas.core.frame.DataFrame'>\n",
      "RangeIndex: 200 entries, 0 to 199\n",
      "Data columns (total 6 columns):\n",
      " #   Column                Non-Null Count  Dtype  \n",
      "---  ------                --------------  -----  \n",
      " 0   Idade                 200 non-null    object \n",
      " 1   Renda Anual (em $)    200 non-null    object \n",
      " 2   Gênero                200 non-null    object \n",
      " 3   Tempo no Site (min)   200 non-null    float64\n",
      " 4   Anúncio Clicado       200 non-null    object \n",
      " 5   Compra (0 ou 1)       200 non-null    int64  \n",
      "dtypes: float64(1), int64(1), object(4)\n",
      "memory usage: 9.5+ KB\n"
     ]
    },
    {
     "data": {
      "text/plain": [
       "None"
      ]
     },
     "metadata": {},
     "output_type": "display_data"
    },
    {
     "name": "stdout",
     "output_type": "stream",
     "text": [
      "\n",
      "Primeiras linhas do dataset:\n"
     ]
    },
    {
     "data": {
      "text/html": [
       "<div>\n",
       "<style scoped>\n",
       "    .dataframe tbody tr th:only-of-type {\n",
       "        vertical-align: middle;\n",
       "    }\n",
       "\n",
       "    .dataframe tbody tr th {\n",
       "        vertical-align: top;\n",
       "    }\n",
       "\n",
       "    .dataframe thead th {\n",
       "        text-align: right;\n",
       "    }\n",
       "</style>\n",
       "<table border=\"1\" class=\"dataframe\">\n",
       "  <thead>\n",
       "    <tr style=\"text-align: right;\">\n",
       "      <th></th>\n",
       "      <th>Idade</th>\n",
       "      <th>Renda Anual (em $)</th>\n",
       "      <th>Gênero</th>\n",
       "      <th>Tempo no Site (min)</th>\n",
       "      <th>Anúncio Clicado</th>\n",
       "      <th>Compra (0 ou 1)</th>\n",
       "    </tr>\n",
       "  </thead>\n",
       "  <tbody>\n",
       "    <tr>\n",
       "      <th>0</th>\n",
       "      <td>29</td>\n",
       "      <td>30000</td>\n",
       "      <td>Feminino</td>\n",
       "      <td>5.741706</td>\n",
       "      <td>Não</td>\n",
       "      <td>0</td>\n",
       "    </tr>\n",
       "    <tr>\n",
       "      <th>1</th>\n",
       "      <td>58</td>\n",
       "      <td>50000</td>\n",
       "      <td>Feminino</td>\n",
       "      <td>21.885505</td>\n",
       "      <td>Sim</td>\n",
       "      <td>0</td>\n",
       "    </tr>\n",
       "    <tr>\n",
       "      <th>2</th>\n",
       "      <td>50</td>\n",
       "      <td>70000</td>\n",
       "      <td>Feminino</td>\n",
       "      <td>6.121339</td>\n",
       "      <td>Não</td>\n",
       "      <td>1</td>\n",
       "    </tr>\n",
       "    <tr>\n",
       "      <th>3</th>\n",
       "      <td>21</td>\n",
       "      <td>100000</td>\n",
       "      <td>Feminino</td>\n",
       "      <td>16.264925</td>\n",
       "      <td>Não</td>\n",
       "      <td>0</td>\n",
       "    </tr>\n",
       "    <tr>\n",
       "      <th>4</th>\n",
       "      <td>59</td>\n",
       "      <td>50000</td>\n",
       "      <td>Feminino</td>\n",
       "      <td>28.235667</td>\n",
       "      <td>Sim</td>\n",
       "      <td>1</td>\n",
       "    </tr>\n",
       "  </tbody>\n",
       "</table>\n",
       "</div>"
      ],
      "text/plain": [
       "   Idade   Renda Anual (em $)   Gênero      Tempo no Site (min)   \\\n",
       "0     29                30000   Feminino                5.741706   \n",
       "1     58                50000   Feminino               21.885505   \n",
       "2     50                70000   Feminino                6.121339   \n",
       "3     21               100000   Feminino               16.264925   \n",
       "4     59                50000   Feminino               28.235667   \n",
       "\n",
       "   Anúncio Clicado   Compra (0 ou 1)  \n",
       "0  Não                             0  \n",
       "1  Sim                             0  \n",
       "2  Não                             1  \n",
       "3  Não                             0  \n",
       "4  Sim                             1  "
      ]
     },
     "metadata": {},
     "output_type": "display_data"
    },
    {
     "name": "stdout",
     "output_type": "stream",
     "text": [
      "Primeiras linhas aparecendo masculino:\n"
     ]
    },
    {
     "ename": "KeyError",
     "evalue": "'Gênero'",
     "output_type": "error",
     "traceback": [
      "\u001b[1;31m---------------------------------------------------------------------------\u001b[0m",
      "\u001b[1;31mKeyError\u001b[0m                                  Traceback (most recent call last)",
      "File \u001b[1;32md:\\GitHub Desktop\\VExpenses_Desafio_Tecnico\\venv\\Lib\\site-packages\\pandas\\core\\indexes\\base.py:3805\u001b[0m, in \u001b[0;36mIndex.get_loc\u001b[1;34m(self, key)\u001b[0m\n\u001b[0;32m   3804\u001b[0m \u001b[38;5;28;01mtry\u001b[39;00m:\n\u001b[1;32m-> 3805\u001b[0m     \u001b[38;5;28;01mreturn\u001b[39;00m \u001b[38;5;28;43mself\u001b[39;49m\u001b[38;5;241;43m.\u001b[39;49m\u001b[43m_engine\u001b[49m\u001b[38;5;241;43m.\u001b[39;49m\u001b[43mget_loc\u001b[49m\u001b[43m(\u001b[49m\u001b[43mcasted_key\u001b[49m\u001b[43m)\u001b[49m\n\u001b[0;32m   3806\u001b[0m \u001b[38;5;28;01mexcept\u001b[39;00m \u001b[38;5;167;01mKeyError\u001b[39;00m \u001b[38;5;28;01mas\u001b[39;00m err:\n",
      "File \u001b[1;32mindex.pyx:167\u001b[0m, in \u001b[0;36mpandas._libs.index.IndexEngine.get_loc\u001b[1;34m()\u001b[0m\n",
      "File \u001b[1;32mindex.pyx:196\u001b[0m, in \u001b[0;36mpandas._libs.index.IndexEngine.get_loc\u001b[1;34m()\u001b[0m\n",
      "File \u001b[1;32mpandas\\\\_libs\\\\hashtable_class_helper.pxi:7081\u001b[0m, in \u001b[0;36mpandas._libs.hashtable.PyObjectHashTable.get_item\u001b[1;34m()\u001b[0m\n",
      "File \u001b[1;32mpandas\\\\_libs\\\\hashtable_class_helper.pxi:7089\u001b[0m, in \u001b[0;36mpandas._libs.hashtable.PyObjectHashTable.get_item\u001b[1;34m()\u001b[0m\n",
      "\u001b[1;31mKeyError\u001b[0m: 'Gênero'",
      "\nThe above exception was the direct cause of the following exception:\n",
      "\u001b[1;31mKeyError\u001b[0m                                  Traceback (most recent call last)",
      "Cell \u001b[1;32mIn[2], line 9\u001b[0m\n\u001b[0;32m      6\u001b[0m display(df\u001b[38;5;241m.\u001b[39mhead())\n\u001b[0;32m      8\u001b[0m \u001b[38;5;28mprint\u001b[39m(\u001b[38;5;124m\"\u001b[39m\u001b[38;5;124mPrimeiras linhas aparecendo masculino:\u001b[39m\u001b[38;5;124m\"\u001b[39m)\n\u001b[1;32m----> 9\u001b[0m display(df[\u001b[43mdf\u001b[49m\u001b[43m[\u001b[49m\u001b[38;5;124;43m'\u001b[39;49m\u001b[38;5;124;43mGênero\u001b[39;49m\u001b[38;5;124;43m'\u001b[39;49m\u001b[43m]\u001b[49m \u001b[38;5;241m==\u001b[39m \u001b[38;5;124m'\u001b[39m\u001b[38;5;124mMasculino\u001b[39m\u001b[38;5;124m'\u001b[39m]\u001b[38;5;241m.\u001b[39mhead())\n",
      "File \u001b[1;32md:\\GitHub Desktop\\VExpenses_Desafio_Tecnico\\venv\\Lib\\site-packages\\pandas\\core\\frame.py:4102\u001b[0m, in \u001b[0;36mDataFrame.__getitem__\u001b[1;34m(self, key)\u001b[0m\n\u001b[0;32m   4100\u001b[0m \u001b[38;5;28;01mif\u001b[39;00m \u001b[38;5;28mself\u001b[39m\u001b[38;5;241m.\u001b[39mcolumns\u001b[38;5;241m.\u001b[39mnlevels \u001b[38;5;241m>\u001b[39m \u001b[38;5;241m1\u001b[39m:\n\u001b[0;32m   4101\u001b[0m     \u001b[38;5;28;01mreturn\u001b[39;00m \u001b[38;5;28mself\u001b[39m\u001b[38;5;241m.\u001b[39m_getitem_multilevel(key)\n\u001b[1;32m-> 4102\u001b[0m indexer \u001b[38;5;241m=\u001b[39m \u001b[38;5;28;43mself\u001b[39;49m\u001b[38;5;241;43m.\u001b[39;49m\u001b[43mcolumns\u001b[49m\u001b[38;5;241;43m.\u001b[39;49m\u001b[43mget_loc\u001b[49m\u001b[43m(\u001b[49m\u001b[43mkey\u001b[49m\u001b[43m)\u001b[49m\n\u001b[0;32m   4103\u001b[0m \u001b[38;5;28;01mif\u001b[39;00m is_integer(indexer):\n\u001b[0;32m   4104\u001b[0m     indexer \u001b[38;5;241m=\u001b[39m [indexer]\n",
      "File \u001b[1;32md:\\GitHub Desktop\\VExpenses_Desafio_Tecnico\\venv\\Lib\\site-packages\\pandas\\core\\indexes\\base.py:3812\u001b[0m, in \u001b[0;36mIndex.get_loc\u001b[1;34m(self, key)\u001b[0m\n\u001b[0;32m   3807\u001b[0m     \u001b[38;5;28;01mif\u001b[39;00m \u001b[38;5;28misinstance\u001b[39m(casted_key, \u001b[38;5;28mslice\u001b[39m) \u001b[38;5;129;01mor\u001b[39;00m (\n\u001b[0;32m   3808\u001b[0m         \u001b[38;5;28misinstance\u001b[39m(casted_key, abc\u001b[38;5;241m.\u001b[39mIterable)\n\u001b[0;32m   3809\u001b[0m         \u001b[38;5;129;01mand\u001b[39;00m \u001b[38;5;28many\u001b[39m(\u001b[38;5;28misinstance\u001b[39m(x, \u001b[38;5;28mslice\u001b[39m) \u001b[38;5;28;01mfor\u001b[39;00m x \u001b[38;5;129;01min\u001b[39;00m casted_key)\n\u001b[0;32m   3810\u001b[0m     ):\n\u001b[0;32m   3811\u001b[0m         \u001b[38;5;28;01mraise\u001b[39;00m InvalidIndexError(key)\n\u001b[1;32m-> 3812\u001b[0m     \u001b[38;5;28;01mraise\u001b[39;00m \u001b[38;5;167;01mKeyError\u001b[39;00m(key) \u001b[38;5;28;01mfrom\u001b[39;00m\u001b[38;5;250m \u001b[39m\u001b[38;5;21;01merr\u001b[39;00m\n\u001b[0;32m   3813\u001b[0m \u001b[38;5;28;01mexcept\u001b[39;00m \u001b[38;5;167;01mTypeError\u001b[39;00m:\n\u001b[0;32m   3814\u001b[0m     \u001b[38;5;66;03m# If we have a listlike key, _check_indexing_error will raise\u001b[39;00m\n\u001b[0;32m   3815\u001b[0m     \u001b[38;5;66;03m#  InvalidIndexError. Otherwise we fall through and re-raise\u001b[39;00m\n\u001b[0;32m   3816\u001b[0m     \u001b[38;5;66;03m#  the TypeError.\u001b[39;00m\n\u001b[0;32m   3817\u001b[0m     \u001b[38;5;28mself\u001b[39m\u001b[38;5;241m.\u001b[39m_check_indexing_error(key)\n",
      "\u001b[1;31mKeyError\u001b[0m: 'Gênero'"
     ]
    }
   ],
   "source": [
    "# Carregando a Análise Exploratória\n",
    "df = pd.read_csv('data/Dataset.csv')\n",
    "print(\"Informações do Dataset: \\n\")\n",
    "display(df.info())\n",
    "print(\"\\nPrimeiras linhas do dataset:\")\n",
    "display(df.head())\n",
    "\n",
    "print(\"Primeiras linhas aparecendo masculino:\")\n",
    "display(df[df['Gênero'] == 'Masculino'].head())\n",
    "\n"
   ]
  },
  {
   "cell_type": "code",
   "execution_count": 30,
   "metadata": {},
   "outputs": [
    {
     "name": "stdout",
     "output_type": "stream",
     "text": [
      "Valores únicos na coluna Gênero:\n",
      "['Feminino' 'Masculino' nan]\n",
      "\n",
      "Contagem por Gênero:\n"
     ]
    },
    {
     "data": {
      "text/plain": [
       "Gênero\n",
       "Masculino    99\n",
       "Feminino     94\n",
       "Name: count, dtype: int64"
      ]
     },
     "metadata": {},
     "output_type": "display_data"
    },
    {
     "data": {
      "image/png": "[encoded data removed]",
      "text/plain": [
       "<Figure size 800x500 with 1 Axes>"
      ]
     },
     "metadata": {},
     "output_type": "display_data"
    },
    {
     "name": "stdout",
     "output_type": "stream",
     "text": [
      "\n",
      "Quantidade de valores nulos em Gênero:\n",
      "7\n"
     ]
    }
   ],
   "source": [
    "import pandas as pd\n",
    "import seaborn as sns\n",
    "import matplotlib.pyplot as plt\n",
    "\n",
    "'''Distribuição de Gênero'''\n",
    "\n",
    "# Carregar os dados\n",
    "df = pd.read_csv('data/Dataset.csv')\n",
    "\n",
    "# Verificar valores únicos na coluna Gênero\n",
    "print(\"Valores únicos na coluna Gênero:\")\n",
    "print(df['Gênero'].unique())\n",
    "\n",
    "# Contagem de cada gênero\n",
    "print(\"\\nContagem por Gênero:\")\n",
    "display(df['Gênero'].value_counts())\n",
    "\n",
    "# Criar um gráfico de barras para visualizar a distribuição\n",
    "plt.figure(figsize=(8, 5))\n",
    "sns.countplot(data=df, x='Gênero')\n",
    "plt.title('Distribuição de Gênero no Dataset')\n",
    "plt.show()\n",
    "\n",
    "# Verificar se há valores nulos\n",
    "print(\"\\nQuantidade de valores nulos em Gênero:\")\n",
    "print(df['Gênero'].isnull().sum())"
   ]
  },
  {
   "cell_type": "code",
   "execution_count": 37,
   "metadata": {},
   "outputs": [
    {
     "name": "stdout",
     "output_type": "stream",
     "text": [
      "\n",
      "Valores ausentes por coluna:\n",
      "Idade                  10\n",
      "Renda Anual (em $)     11\n",
      "Gênero                  7\n",
      "Tempo no Site (min)     0\n",
      "Anúncio Clicado        10\n",
      "Compra (0 ou 1)         0\n",
      "dtype: int64\n"
     ]
    }
   ],
   "source": [
    "# 2. Análise de valores ausentes\n",
    "print(\"\\nValores ausentes por coluna:\")\n",
    "print(df.isnull().sum())"
   ]
  },
  {
   "cell_type": "code",
   "execution_count": 43,
   "metadata": {},
   "outputs": [
    {
     "name": "stdout",
     "output_type": "stream",
     "text": [
      "\n",
      "Estatísticas descritivas(raw):\n"
     ]
    },
    {
     "data": {
      "text/html": [
       "<div>\n",
       "<style scoped>\n",
       "    .dataframe tbody tr th:only-of-type {\n",
       "        vertical-align: middle;\n",
       "    }\n",
       "\n",
       "    .dataframe tbody tr th {\n",
       "        vertical-align: top;\n",
       "    }\n",
       "\n",
       "    .dataframe thead th {\n",
       "        text-align: right;\n",
       "    }\n",
       "</style>\n",
       "<table border=\"1\" class=\"dataframe\">\n",
       "  <thead>\n",
       "    <tr style=\"text-align: right;\">\n",
       "      <th></th>\n",
       "      <th>Idade</th>\n",
       "      <th>Renda Anual (em $)</th>\n",
       "      <th>Tempo no Site (min)</th>\n",
       "      <th>Compra (0 ou 1)</th>\n",
       "    </tr>\n",
       "  </thead>\n",
       "  <tbody>\n",
       "    <tr>\n",
       "      <th>count</th>\n",
       "      <td>187.00</td>\n",
       "      <td>185.00</td>\n",
       "      <td>195.00</td>\n",
       "      <td>195.00</td>\n",
       "    </tr>\n",
       "    <tr>\n",
       "      <th>mean</th>\n",
       "      <td>38.52</td>\n",
       "      <td>58432.43</td>\n",
       "      <td>17.82</td>\n",
       "      <td>0.33</td>\n",
       "    </tr>\n",
       "    <tr>\n",
       "      <th>std</th>\n",
       "      <td>12.66</td>\n",
       "      <td>25775.52</td>\n",
       "      <td>7.23</td>\n",
       "      <td>0.47</td>\n",
       "    </tr>\n",
       "    <tr>\n",
       "      <th>min</th>\n",
       "      <td>18.00</td>\n",
       "      <td>30000.00</td>\n",
       "      <td>5.05</td>\n",
       "      <td>0.00</td>\n",
       "    </tr>\n",
       "    <tr>\n",
       "      <th>25%</th>\n",
       "      <td>28.00</td>\n",
       "      <td>30000.00</td>\n",
       "      <td>11.72</td>\n",
       "      <td>0.00</td>\n",
       "    </tr>\n",
       "    <tr>\n",
       "      <th>50%</th>\n",
       "      <td>38.00</td>\n",
       "      <td>50000.00</td>\n",
       "      <td>18.31</td>\n",
       "      <td>0.00</td>\n",
       "    </tr>\n",
       "    <tr>\n",
       "      <th>75%</th>\n",
       "      <td>50.00</td>\n",
       "      <td>70000.00</td>\n",
       "      <td>23.94</td>\n",
       "      <td>1.00</td>\n",
       "    </tr>\n",
       "    <tr>\n",
       "      <th>max</th>\n",
       "      <td>59.00</td>\n",
       "      <td>100000.00</td>\n",
       "      <td>29.85</td>\n",
       "      <td>1.00</td>\n",
       "    </tr>\n",
       "  </tbody>\n",
       "</table>\n",
       "</div>"
      ],
      "text/plain": [
       "       Idade  Renda Anual (em $)  Tempo no Site (min)  Compra (0 ou 1)\n",
       "count 187.00              185.00               195.00           195.00\n",
       "mean   38.52            58432.43                17.82             0.33\n",
       "std    12.66            25775.52                 7.23             0.47\n",
       "min    18.00            30000.00                 5.05             0.00\n",
       "25%    28.00            30000.00                11.72             0.00\n",
       "50%    38.00            50000.00                18.31             0.00\n",
       "75%    50.00            70000.00                23.94             1.00\n",
       "max    59.00           100000.00                29.85             1.00"
      ]
     },
     "metadata": {},
     "output_type": "display_data"
    },
    {
     "name": "stdout",
     "output_type": "stream",
     "text": [
      "\n",
      "Estatísticas descritivas (ajustadas e limpas):\n"
     ]
    },
    {
     "data": {
      "text/html": [
       "<div>\n",
       "<style scoped>\n",
       "    .dataframe tbody tr th:only-of-type {\n",
       "        vertical-align: middle;\n",
       "    }\n",
       "\n",
       "    .dataframe tbody tr th {\n",
       "        vertical-align: top;\n",
       "    }\n",
       "\n",
       "    .dataframe thead th {\n",
       "        text-align: right;\n",
       "    }\n",
       "</style>\n",
       "<table border=\"1\" class=\"dataframe\">\n",
       "  <thead>\n",
       "    <tr style=\"text-align: right;\">\n",
       "      <th></th>\n",
       "      <th>Idade</th>\n",
       "      <th>Renda Anual (em $)</th>\n",
       "      <th>Tempo no Site (min)</th>\n",
       "    </tr>\n",
       "  </thead>\n",
       "  <tbody>\n",
       "    <tr>\n",
       "      <th>count</th>\n",
       "      <td>187.00</td>\n",
       "      <td>185.00</td>\n",
       "      <td>195.00</td>\n",
       "    </tr>\n",
       "    <tr>\n",
       "      <th>mean</th>\n",
       "      <td>38.52</td>\n",
       "      <td>58432.43</td>\n",
       "      <td>17.82</td>\n",
       "    </tr>\n",
       "    <tr>\n",
       "      <th>std</th>\n",
       "      <td>12.66</td>\n",
       "      <td>25775.52</td>\n",
       "      <td>7.23</td>\n",
       "    </tr>\n",
       "    <tr>\n",
       "      <th>min</th>\n",
       "      <td>18.00</td>\n",
       "      <td>30000.00</td>\n",
       "      <td>5.05</td>\n",
       "    </tr>\n",
       "    <tr>\n",
       "      <th>25%</th>\n",
       "      <td>28.00</td>\n",
       "      <td>30000.00</td>\n",
       "      <td>11.72</td>\n",
       "    </tr>\n",
       "    <tr>\n",
       "      <th>50%</th>\n",
       "      <td>38.00</td>\n",
       "      <td>50000.00</td>\n",
       "      <td>18.31</td>\n",
       "    </tr>\n",
       "    <tr>\n",
       "      <th>75%</th>\n",
       "      <td>50.00</td>\n",
       "      <td>70000.00</td>\n",
       "      <td>23.94</td>\n",
       "    </tr>\n",
       "    <tr>\n",
       "      <th>max</th>\n",
       "      <td>59.00</td>\n",
       "      <td>100000.00</td>\n",
       "      <td>29.85</td>\n",
       "    </tr>\n",
       "  </tbody>\n",
       "</table>\n",
       "</div>"
      ],
      "text/plain": [
       "       Idade  Renda Anual (em $)  Tempo no Site (min)\n",
       "count 187.00              185.00               195.00\n",
       "mean   38.52            58432.43                17.82\n",
       "std    12.66            25775.52                 7.23\n",
       "min    18.00            30000.00                 5.05\n",
       "25%    28.00            30000.00                11.72\n",
       "50%    38.00            50000.00                18.31\n",
       "75%    50.00            70000.00                23.94\n",
       "max    59.00           100000.00                29.85"
      ]
     },
     "metadata": {},
     "output_type": "display_data"
    }
   ],
   "source": [
    "# 3. Estatísticas descritivas das variáveis numéricas\n",
    "print(\"\\nEstatísticas descritivas(raw):\")\n",
    "display(df.describe())\n",
    "\n",
    "\n",
    "\n",
    "# Ajustando o formato dos números para duas casas decimais\n",
    "pd.options.display.float_format = '{:.2f}'.format\n",
    "\n",
    "# Filtrando valores inválidos na coluna \"Tempo no Site (min)\"\n",
    "df = df[df['Tempo no Site (min)'] >= 0]\n",
    "\n",
    "# Selecionando apenas colunas relevantes\n",
    "colunas_relevantes = ['Idade', 'Renda Anual (em $)', 'Tempo no Site (min)']\n",
    "stats = df[colunas_relevantes].describe().round(2)\n",
    "\n",
    "# Exibindo estatísticas descritivas ajustadas e limpas\n",
    "print(\"\\nEstatísticas descritivas (ajustadas e limpas):\")\n",
    "display(stats)\n"
   ]
  },
  {
   "cell_type": "code",
   "execution_count": 47,
   "metadata": {},
   "outputs": [
    {
     "name": "stdout",
     "output_type": "stream",
     "text": [
      "\n",
      "Distribuição da coluna 'Compra (0 ou 1)':\n",
      "Compra (0 ou 1)\n",
      "0    130\n",
      "1     65\n",
      "Name: count, dtype: int64\n",
      "\n",
      "Porcentagem de cada categoria:\n",
      "Compra (0 ou 1)\n",
      "0   66.67\n",
      "1   33.33\n",
      "Name: count, dtype: float64\n"
     ]
    }
   ],
   "source": [
    "# Vamos verificar a distribuição da coluna \"Compra (0 ou 1)\"\n",
    "compra_dist = df['Compra (0 ou 1)'].value_counts()\n",
    "print(\"\\nDistribuição da coluna 'Compra (0 ou 1)':\")\n",
    "print(compra_dist)\n",
    "\n",
    "# Calculando as porcentagens\n",
    "compra_percent = (compra_dist / len(df)) * 100\n",
    "print(\"\\nPorcentagem de cada categoria:\")\n",
    "print(compra_percent)\n"
   ]
  },
  {
   "cell_type": "code",
   "execution_count": null,
   "metadata": {},
   "outputs": [
    {
     "ename": "KeyError",
     "evalue": "'Idade'",
     "output_type": "error",
     "traceback": [
      "\u001b[1;31m---------------------------------------------------------------------------\u001b[0m",
      "\u001b[1;31mKeyError\u001b[0m                                  Traceback (most recent call last)",
      "File \u001b[1;32md:\\GitHub Desktop\\VExpenses_Desafio_Tecnico\\venv\\Lib\\site-packages\\pandas\\core\\indexes\\base.py:3805\u001b[0m, in \u001b[0;36mIndex.get_loc\u001b[1;34m(self, key)\u001b[0m\n\u001b[0;32m   3804\u001b[0m \u001b[38;5;28;01mtry\u001b[39;00m:\n\u001b[1;32m-> 3805\u001b[0m     \u001b[38;5;28;01mreturn\u001b[39;00m \u001b[38;5;28;43mself\u001b[39;49m\u001b[38;5;241;43m.\u001b[39;49m\u001b[43m_engine\u001b[49m\u001b[38;5;241;43m.\u001b[39;49m\u001b[43mget_loc\u001b[49m\u001b[43m(\u001b[49m\u001b[43mcasted_key\u001b[49m\u001b[43m)\u001b[49m\n\u001b[0;32m   3806\u001b[0m \u001b[38;5;28;01mexcept\u001b[39;00m \u001b[38;5;167;01mKeyError\u001b[39;00m \u001b[38;5;28;01mas\u001b[39;00m err:\n",
      "File \u001b[1;32mindex.pyx:167\u001b[0m, in \u001b[0;36mpandas._libs.index.IndexEngine.get_loc\u001b[1;34m()\u001b[0m\n",
      "File \u001b[1;32mindex.pyx:196\u001b[0m, in \u001b[0;36mpandas._libs.index.IndexEngine.get_loc\u001b[1;34m()\u001b[0m\n",
      "File \u001b[1;32mpandas\\\\_libs\\\\hashtable_class_helper.pxi:7081\u001b[0m, in \u001b[0;36mpandas._libs.hashtable.PyObjectHashTable.get_item\u001b[1;34m()\u001b[0m\n",
      "File \u001b[1;32mpandas\\\\_libs\\\\hashtable_class_helper.pxi:7089\u001b[0m, in \u001b[0;36mpandas._libs.hashtable.PyObjectHashTable.get_item\u001b[1;34m()\u001b[0m\n",
      "\u001b[1;31mKeyError\u001b[0m: 'Idade'",
      "\nThe above exception was the direct cause of the following exception:\n",
      "\u001b[1;31mKeyError\u001b[0m                                  Traceback (most recent call last)",
      "Cell \u001b[1;32mIn[4], line 10\u001b[0m\n\u001b[0;32m      7\u001b[0m data \u001b[38;5;241m=\u001b[39m pd\u001b[38;5;241m.\u001b[39mread_csv(file_path)\n\u001b[0;32m      9\u001b[0m \u001b[38;5;66;03m# Substituir valores ausentes por médias (para variáveis numéricas) e moda (para categóricas)\u001b[39;00m\n\u001b[1;32m---> 10\u001b[0m data[\u001b[38;5;124m'\u001b[39m\u001b[38;5;124mIdade\u001b[39m\u001b[38;5;124m'\u001b[39m] \u001b[38;5;241m=\u001b[39m \u001b[43mdata\u001b[49m\u001b[43m[\u001b[49m\u001b[38;5;124;43m'\u001b[39;49m\u001b[38;5;124;43mIdade\u001b[39;49m\u001b[38;5;124;43m'\u001b[39;49m\u001b[43m]\u001b[49m\u001b[38;5;241m.\u001b[39mfillna(data[\u001b[38;5;124m'\u001b[39m\u001b[38;5;124mIdade\u001b[39m\u001b[38;5;124m'\u001b[39m]\u001b[38;5;241m.\u001b[39mmean())\n\u001b[0;32m     11\u001b[0m data[\u001b[38;5;124m'\u001b[39m\u001b[38;5;124mRenda Anual (em $)\u001b[39m\u001b[38;5;124m'\u001b[39m] \u001b[38;5;241m=\u001b[39m data[\u001b[38;5;124m'\u001b[39m\u001b[38;5;124mRenda Anual (em $)\u001b[39m\u001b[38;5;124m'\u001b[39m]\u001b[38;5;241m.\u001b[39mfillna(data[\u001b[38;5;124m'\u001b[39m\u001b[38;5;124mRenda Anual (em $)\u001b[39m\u001b[38;5;124m'\u001b[39m]\u001b[38;5;241m.\u001b[39mmean())\n\u001b[0;32m     12\u001b[0m data[\u001b[38;5;124m'\u001b[39m\u001b[38;5;124mGênero\u001b[39m\u001b[38;5;124m'\u001b[39m] \u001b[38;5;241m=\u001b[39m data[\u001b[38;5;124m'\u001b[39m\u001b[38;5;124mGênero\u001b[39m\u001b[38;5;124m'\u001b[39m]\u001b[38;5;241m.\u001b[39mfillna(data[\u001b[38;5;124m'\u001b[39m\u001b[38;5;124mGênero\u001b[39m\u001b[38;5;124m'\u001b[39m]\u001b[38;5;241m.\u001b[39mmode()[\u001b[38;5;241m0\u001b[39m])\n",
      "File \u001b[1;32md:\\GitHub Desktop\\VExpenses_Desafio_Tecnico\\venv\\Lib\\site-packages\\pandas\\core\\frame.py:4102\u001b[0m, in \u001b[0;36mDataFrame.__getitem__\u001b[1;34m(self, key)\u001b[0m\n\u001b[0;32m   4100\u001b[0m \u001b[38;5;28;01mif\u001b[39;00m \u001b[38;5;28mself\u001b[39m\u001b[38;5;241m.\u001b[39mcolumns\u001b[38;5;241m.\u001b[39mnlevels \u001b[38;5;241m>\u001b[39m \u001b[38;5;241m1\u001b[39m:\n\u001b[0;32m   4101\u001b[0m     \u001b[38;5;28;01mreturn\u001b[39;00m \u001b[38;5;28mself\u001b[39m\u001b[38;5;241m.\u001b[39m_getitem_multilevel(key)\n\u001b[1;32m-> 4102\u001b[0m indexer \u001b[38;5;241m=\u001b[39m \u001b[38;5;28;43mself\u001b[39;49m\u001b[38;5;241;43m.\u001b[39;49m\u001b[43mcolumns\u001b[49m\u001b[38;5;241;43m.\u001b[39;49m\u001b[43mget_loc\u001b[49m\u001b[43m(\u001b[49m\u001b[43mkey\u001b[49m\u001b[43m)\u001b[49m\n\u001b[0;32m   4103\u001b[0m \u001b[38;5;28;01mif\u001b[39;00m is_integer(indexer):\n\u001b[0;32m   4104\u001b[0m     indexer \u001b[38;5;241m=\u001b[39m [indexer]\n",
      "File \u001b[1;32md:\\GitHub Desktop\\VExpenses_Desafio_Tecnico\\venv\\Lib\\site-packages\\pandas\\core\\indexes\\base.py:3812\u001b[0m, in \u001b[0;36mIndex.get_loc\u001b[1;34m(self, key)\u001b[0m\n\u001b[0;32m   3807\u001b[0m     \u001b[38;5;28;01mif\u001b[39;00m \u001b[38;5;28misinstance\u001b[39m(casted_key, \u001b[38;5;28mslice\u001b[39m) \u001b[38;5;129;01mor\u001b[39;00m (\n\u001b[0;32m   3808\u001b[0m         \u001b[38;5;28misinstance\u001b[39m(casted_key, abc\u001b[38;5;241m.\u001b[39mIterable)\n\u001b[0;32m   3809\u001b[0m         \u001b[38;5;129;01mand\u001b[39;00m \u001b[38;5;28many\u001b[39m(\u001b[38;5;28misinstance\u001b[39m(x, \u001b[38;5;28mslice\u001b[39m) \u001b[38;5;28;01mfor\u001b[39;00m x \u001b[38;5;129;01min\u001b[39;00m casted_key)\n\u001b[0;32m   3810\u001b[0m     ):\n\u001b[0;32m   3811\u001b[0m         \u001b[38;5;28;01mraise\u001b[39;00m InvalidIndexError(key)\n\u001b[1;32m-> 3812\u001b[0m     \u001b[38;5;28;01mraise\u001b[39;00m \u001b[38;5;167;01mKeyError\u001b[39;00m(key) \u001b[38;5;28;01mfrom\u001b[39;00m\u001b[38;5;250m \u001b[39m\u001b[38;5;21;01merr\u001b[39;00m\n\u001b[0;32m   3813\u001b[0m \u001b[38;5;28;01mexcept\u001b[39;00m \u001b[38;5;167;01mTypeError\u001b[39;00m:\n\u001b[0;32m   3814\u001b[0m     \u001b[38;5;66;03m# If we have a listlike key, _check_indexing_error will raise\u001b[39;00m\n\u001b[0;32m   3815\u001b[0m     \u001b[38;5;66;03m#  InvalidIndexError. Otherwise we fall through and re-raise\u001b[39;00m\n\u001b[0;32m   3816\u001b[0m     \u001b[38;5;66;03m#  the TypeError.\u001b[39;00m\n\u001b[0;32m   3817\u001b[0m     \u001b[38;5;28mself\u001b[39m\u001b[38;5;241m.\u001b[39m_check_indexing_error(key)\n",
      "\u001b[1;31mKeyError\u001b[0m: 'Idade'"
     ]
    }
   ],
   "source": [
    "import pandas as pd\n",
    "import seaborn as sns\n",
    "import matplotlib.pyplot as plt\n",
    "\n",
    "# Carregar o dataset para análise\n",
    "file_path = 'data/Dataset.csv'\n",
    "data = pd.read_csv(file_path)\n",
    "\n",
    "# Substituir valores ausentes por médias (para variáveis numéricas) e moda (para categóricas)\n",
    "data['Idade'] = data['Idade'].fillna(data['Idade'].mean())\n",
    "data['Renda Anual (em $)'] = data['Renda Anual (em $)'].fillna(data['Renda Anual (em $)'].mean())\n",
    "data['Gênero'] = data['Gênero'].fillna(data['Gênero'].mode()[0])\n",
    "data['Anúncio Clicado'] = data['Anúncio Clicado'].fillna(data['Anúncio Clicado'].mode()[0])\n",
    "\n",
    "# Corrigir inconsistências no 'Tempo no Site'\n",
    "data['Tempo no Site (min)'] = data['Tempo no Site (min)'].apply(lambda x: max(x, 0))\n",
    "\n",
    "# 1. Verificar a distribuição das variáveis\n",
    "print(\"Tarefa 1: Verificar a distribuição das variáveis.\")\n",
    "print(\"Abaixo estão gráficos mostrando como os dados estão distribuídos para as variáveis 'Idade', 'Renda Anual' e 'Tempo no Site'. Também mostramos a distribuição de 'Compra'.\\n\")\n",
    "\n",
    "fig, axes = plt.subplots(2, 2, figsize=(12, 10))\n",
    "\n",
    "sns.histplot(data['Idade'], kde=True, ax=axes[0, 0])\n",
    "axes[0, 0].set_title('Distribuição de Idade')\n",
    "axes[0, 0].set_xlabel('Idade')\n",
    "\n",
    "sns.histplot(data['Renda Anual (em $)'], kde=True, ax=axes[0, 1])\n",
    "axes[0, 1].set_title('Distribuição de Renda Anual')\n",
    "axes[0, 1].set_xlabel('Renda Anual (em $)')\n",
    "\n",
    "sns.histplot(data['Tempo no Site (min)'], kde=True, ax=axes[1, 0])\n",
    "axes[1, 0].set_title('Distribuição de Tempo no Site')\n",
    "axes[1, 0].set_xlabel('Tempo no Site (min)')\n",
    "\n",
    "sns.countplot(x='Compra (0 ou 1)', data=data, ax=axes[1, 1])\n",
    "axes[1, 1].set_title('Distribuição de Compra')\n",
    "axes[1, 1].set_xlabel('Compra (0 ou 1)')\n",
    "\n",
    "plt.tight_layout()\n",
    "plt.show()\n",
    "\n",
    "# 2. Explorar relações entre variáveis independentes e a variável alvo\n",
    "print(\"Tarefa 2: Explorar relações entre variáveis independentes e a variável alvo (Compra).\")\n",
    "print(\"Abaixo estão gráficos que mostram como 'Idade', 'Renda Anual' e 'Tempo no Site' estão relacionados com 'Compra'.\\n\")\n",
    "\n",
    "fig, axes = plt.subplots(1, 3, figsize=(18, 5))\n",
    "\n",
    "sns.boxplot(x='Compra (0 ou 1)', y='Idade', data=data, ax=axes[0])\n",
    "axes[0].set_title('Idade vs Compra')\n",
    "axes[0].set_xlabel('Compra (0 ou 1)')\n",
    "axes[0].set_ylabel('Idade')\n",
    "\n",
    "sns.boxplot(x='Compra (0 ou 1)', y='Renda Anual (em $)', data=data, ax=axes[1])\n",
    "axes[1].set_title('Renda Anual vs Compra')\n",
    "axes[1].set_xlabel('Compra (0 ou 1)')\n",
    "axes[1].set_ylabel('Renda Anual (em $)')\n",
    "\n",
    "sns.boxplot(x='Compra (0 ou 1)', y='Tempo no Site (min)', data=data, ax=axes[2])\n",
    "axes[2].set_title('Tempo no Site vs Compra')\n",
    "axes[2].set_xlabel('Compra (0 ou 1)')\n",
    "axes[2].set_ylabel('Tempo no Site (min)')\n",
    "\n",
    "plt.tight_layout()\n",
    "plt.show()\n",
    "\n",
    "# 3. Identificar valores ausentes (após tratamento) e inconsistências\n",
    "print(\"Tarefa 3: Identificar valores ausentes e inconsistências nos dados.\")\n",
    "missing_after = data.isnull().sum()\n",
    "print(\"Valores ausentes após o tratamento:\")\n",
    "print(missing_after)\n"
   ]
  },
  {
   "cell_type": "code",
   "execution_count": 3,
   "metadata": {},
   "outputs": [
    {
     "name": "stdout",
     "output_type": "stream",
     "text": [
      "Tarefa 1: Verificar a distribuição de Gênero.\n",
      "Gráfico mostrando a distribuição de Gênero no dataset.\n",
      "\n"
     ]
    },
    {
     "ename": "NameError",
     "evalue": "name 'data' is not defined",
     "output_type": "error",
     "traceback": [
      "\u001b[1;31m---------------------------------------------------------------------------\u001b[0m",
      "\u001b[1;31mNameError\u001b[0m                                 Traceback (most recent call last)",
      "Cell \u001b[1;32mIn[3], line 6\u001b[0m\n\u001b[0;32m      3\u001b[0m \u001b[38;5;28mprint\u001b[39m(\u001b[38;5;124m\"\u001b[39m\u001b[38;5;124mGráfico mostrando a distribuição de Gênero no dataset.\u001b[39m\u001b[38;5;130;01m\\n\u001b[39;00m\u001b[38;5;124m\"\u001b[39m)\n\u001b[0;32m      5\u001b[0m plt\u001b[38;5;241m.\u001b[39mfigure(figsize\u001b[38;5;241m=\u001b[39m(\u001b[38;5;241m8\u001b[39m, \u001b[38;5;241m5\u001b[39m))\n\u001b[1;32m----> 6\u001b[0m sns\u001b[38;5;241m.\u001b[39mcountplot(x\u001b[38;5;241m=\u001b[39m\u001b[38;5;124m'\u001b[39m\u001b[38;5;124mGênero\u001b[39m\u001b[38;5;124m'\u001b[39m, data\u001b[38;5;241m=\u001b[39m\u001b[43mdata\u001b[49m, palette\u001b[38;5;241m=\u001b[39m\u001b[38;5;124m'\u001b[39m\u001b[38;5;124mpastel\u001b[39m\u001b[38;5;124m'\u001b[39m)\n\u001b[0;32m      7\u001b[0m plt\u001b[38;5;241m.\u001b[39mtitle(\u001b[38;5;124m'\u001b[39m\u001b[38;5;124mDistribuição de Gênero\u001b[39m\u001b[38;5;124m'\u001b[39m)\n\u001b[0;32m      8\u001b[0m plt\u001b[38;5;241m.\u001b[39mxlabel(\u001b[38;5;124m'\u001b[39m\u001b[38;5;124mGênero\u001b[39m\u001b[38;5;124m'\u001b[39m)\n",
      "\u001b[1;31mNameError\u001b[0m: name 'data' is not defined"
     ]
    },
    {
     "data": {
      "text/plain": [
       "<Figure size 800x500 with 0 Axes>"
      ]
     },
     "metadata": {},
     "output_type": "display_data"
    }
   ],
   "source": [
    "# Tarefa 1: Verificar a distribuição da variável 'Gênero'\n",
    "print(\"Tarefa 1: Verificar a distribuição de Gênero.\")\n",
    "print(\"Gráfico mostrando a distribuição de Gênero no dataset.\\n\")\n",
    "\n",
    "plt.figure(figsize=(8, 5))\n",
    "sns.countplot(x='Gênero', data=data, palette='pastel')\n",
    "plt.title('Distribuição de Gênero')\n",
    "plt.xlabel('Gênero')\n",
    "plt.ylabel('Frequência')\n",
    "plt.show()\n",
    "\n",
    "# Tarefa 2: Explorar relação entre 'Gênero' e 'Compra'\n",
    "print(\"Tarefa 2: Explorar relação entre Gênero e Compra.\")\n",
    "print(\"Gráfico mostrando como o Gênero está relacionado com Compra.\\n\")\n",
    "\n",
    "plt.figure(figsize=(8, 5))\n",
    "sns.countplot(x='Gênero', hue='Compra (0 ou 1)', data=data, palette='muted')\n",
    "plt.title('Gênero vs Compra')\n",
    "plt.xlabel('Gênero')\n",
    "plt.ylabel('Frequência')\n",
    "plt.legend(title='Compra (0 ou 1)')\n",
    "plt.show()\n"
   ]
  },
  {
   "cell_type": "code",
   "execution_count": null,
   "metadata": {},
   "outputs": [],
   "source": [
    "# Tarefa 1: Verificar a distribuição da variável 'Anúncio Clicado'\n",
    "print(\"Tarefa 1: Verificar a distribuição de Anúncio Clicado.\")\n",
    "print(\"Gráfico mostrando a distribuição de Anúncio Clicado no dataset.\\n\")\n",
    "\n",
    "plt.figure(figsize=(8, 5))\n",
    "sns.countplot(x='Anúncio Clicado', data=data, palette='cool')\n",
    "plt.title('Distribuição de Anúncio Clicado')\n",
    "plt.xlabel('Anúncio Clicado (Sim ou Não)')\n",
    "plt.ylabel('Frequência')\n",
    "plt.show()\n",
    "\n",
    "# Tarefa 2: Explorar relação entre 'Anúncio Clicado' e 'Compra'\n",
    "print(\"Tarefa 2: Explorar relação entre Anúncio Clicado e Compra.\")\n",
    "print(\"Gráfico mostrando como Anúncio Clicado está relacionado com Compra.\\n\")\n",
    "\n",
    "plt.figure(figsize=(8, 5))\n",
    "sns.countplot(x='Anúncio Clicado', hue='Compra (0 ou 1)', data=data, palette='dark')\n",
    "plt.title('Anúncio Clicado vs Compra')\n",
    "plt.xlabel('Anúncio Clicado (Sim ou Não)')\n",
    "plt.ylabel('Frequência')\n",
    "plt.legend(title='Compra (0 ou 1)')\n",
    "plt.show()\n"
   ]
  }
 ],
 "metadata": {
  "kernelspec": {
   "display_name": "venv",
   "language": "python",
   "name": "python3"
  },
  "language_info": {
   "codemirror_mode": {
    "name": "ipython",
    "version": 3
   },
   "file_extension": ".py",
   "mimetype": "text/x-python",
   "name": "python",
   "nbconvert_exporter": "python",
   "pygments_lexer": "ipython3",
   "version": "3.12.8"
  }
 },
 "nbformat": 4,
 "nbformat_minor": 2
}
